{
 "cells": [
  {
   "cell_type": "markdown",
   "metadata": {},
   "source": [
    "# Create csv of file list"
   ]
  },
  {
   "cell_type": "code",
   "execution_count": 1,
   "metadata": {},
   "outputs": [],
   "source": [
    "from os import listdir, path, makedirs\n",
    "import re\n",
    "from datetime import datetime, timedelta, time\n",
    "from glob import glob\n",
    "import pandas as pd"
   ]
  },
  {
   "cell_type": "markdown",
   "metadata": {},
   "source": [
    "### Image directory"
   ]
  },
  {
   "cell_type": "code",
   "execution_count": 2,
   "metadata": {},
   "outputs": [],
   "source": [
    "original_dir = '/n/mickley/lab/HMS_vision/original/'\n",
    "band1_dir = path.join(original_dir, 'band1')\n",
    "band3_dir = path.join(original_dir, 'band3')\n",
    "hms_dir = path.join(original_dir, 'HMS')\n",
    "daynight_dir = path.join(original_dir, 'DayNight')"
   ]
  },
  {
   "cell_type": "code",
   "execution_count": 3,
   "metadata": {},
   "outputs": [],
   "source": [
    "meteo_vars = ['CLDTOT', 'U10M', 'V10M', 'QV2M']\n",
    "meteo_dirs = {}\n",
    "for meteo_var in meteo_vars:\n",
    "    meteo_dirs[meteo_var] = path.join(original_dir, 'meteo_var')"
   ]
  },
  {
   "cell_type": "markdown",
   "metadata": {},
   "source": [
    "## Define patterns to extract timestamp from images\n",
    "### GOES pattern"
   ]
  },
  {
   "cell_type": "code",
   "execution_count": 4,
   "metadata": {},
   "outputs": [
    {
     "data": {
      "text/plain": [
       "'RadF-M3C01-s20180012000.png'"
      ]
     },
     "execution_count": 4,
     "metadata": {},
     "output_type": "execute_result"
    }
   ],
   "source": [
    "sample = path.basename(glob(path.join(band1_dir, \"**\", \"*.png\"), recursive=True)[0])\n",
    "sample"
   ]
  },
  {
   "cell_type": "code",
   "execution_count": 5,
   "metadata": {},
   "outputs": [],
   "source": [
    "goes_pattern = re.compile(r\"RadF-M3C0(?P<band>\\d?)-s(?P<year>\\d{4}?)(?P<day>\\d{3}?)(?P<hour>\\d{2}?)(?P<minute>\\d{2}?)\\.png\", re.VERBOSE)"
   ]
  },
  {
   "cell_type": "code",
   "execution_count": 6,
   "metadata": {},
   "outputs": [],
   "source": [
    "def extract_GOES(s):\n",
    "    match = goes_pattern.match(s)\n",
    "    if match:\n",
    "        year = int(match.group('year'))\n",
    "        day = int(match.group('day'))\n",
    "        hour = int(match.group('hour'))\n",
    "        minute = 0 if int(match.group('minute')) < 30 else 30\n",
    "        return datetime(year, 1, 1) + timedelta(days=day - 1, hours=hour, minutes=minute)\n",
    "    else:\n",
    "        return None"
   ]
  },
  {
   "cell_type": "code",
   "execution_count": 7,
   "metadata": {},
   "outputs": [
    {
     "data": {
      "text/plain": [
       "datetime.datetime(2018, 1, 1, 20, 0)"
      ]
     },
     "execution_count": 7,
     "metadata": {},
     "output_type": "execute_result"
    }
   ],
   "source": [
    "extract_GOES(sample)"
   ]
  },
  {
   "cell_type": "markdown",
   "metadata": {},
   "source": [
    "### HMS pattern"
   ]
  },
  {
   "cell_type": "code",
   "execution_count": 8,
   "metadata": {},
   "outputs": [
    {
     "data": {
      "text/plain": [
       "'HMS_Density_20180427_1900.tif'"
      ]
     },
     "execution_count": 8,
     "metadata": {},
     "output_type": "execute_result"
    }
   ],
   "source": [
    "hms_sample = path.basename(glob(path.join(hms_dir, \"**\", \"*.tif\"), recursive=True)[0])\n",
    "hms_sample"
   ]
  },
  {
   "cell_type": "code",
   "execution_count": 9,
   "metadata": {},
   "outputs": [],
   "source": [
    "hms_pattern = re.compile(r\"HMS_Density_(?P<year>\\d{4}?)(?P<month>\\d{2}?)(?P<day>\\d{2}?)_(?P<hour>\\d{2}?)(?P<minute>\\d{2}?)\\.tif\", re.VERBOSE)"
   ]
  },
  {
   "cell_type": "code",
   "execution_count": 10,
   "metadata": {},
   "outputs": [],
   "source": [
    "def extract_HMS(s):\n",
    "    match = hms_pattern.match(s)\n",
    "    if match:\n",
    "        year = int(match.group('year'))\n",
    "        month = int(match.group('month'))\n",
    "        day = int(match.group('day'))\n",
    "        hour = int(match.group('hour'))\n",
    "        minute = 0 if int(match.group('minute')) < 30 else 30\n",
    "        return datetime(year=year, month=month, day=day, hour=hour, minute=minute)\n",
    "    else:\n",
    "        return ValueError()"
   ]
  },
  {
   "cell_type": "code",
   "execution_count": 11,
   "metadata": {},
   "outputs": [
    {
     "data": {
      "text/plain": [
       "datetime.datetime(2018, 4, 27, 19, 0)"
      ]
     },
     "execution_count": 11,
     "metadata": {},
     "output_type": "execute_result"
    }
   ],
   "source": [
    "extract_HMS(hms_sample)"
   ]
  },
  {
   "cell_type": "markdown",
   "metadata": {},
   "source": [
    "### Meteo pattern"
   ]
  },
  {
   "cell_type": "code",
   "execution_count": null,
   "metadata": {},
   "outputs": [],
   "source": [
    "met_sample = path.basename(glob(path.join(hms_dir, \"**\", \"*.tif\"), recursive=True)[0])\n",
    "hms_sample"
   ]
  },
  {
   "cell_type": "markdown",
   "metadata": {},
   "source": [
    "### Daynight pattern"
   ]
  },
  {
   "cell_type": "code",
   "execution_count": 13,
   "metadata": {},
   "outputs": [
    {
     "data": {
      "text/plain": [
       "'DayNight_001_0000.png'"
      ]
     },
     "execution_count": 13,
     "metadata": {},
     "output_type": "execute_result"
    }
   ],
   "source": [
    "daynight_sample = sorted(listdir(daynight_dir))[0]\n",
    "daynight_sample"
   ]
  },
  {
   "cell_type": "code",
   "execution_count": 14,
   "metadata": {},
   "outputs": [],
   "source": [
    "daynight_pattern = re.compile(r\"DayNight_(?P<yday>\\d{3}?)_(?P<hour>\\d{2}?)(?P<minute>\\d{2}?)\\.png\", re.VERBOSE)"
   ]
  },
  {
   "cell_type": "code",
   "execution_count": 15,
   "metadata": {},
   "outputs": [],
   "source": [
    "def extract_daynight(s):\n",
    "    match = daynight_pattern.match(s)\n",
    "    if match:\n",
    "        yday = int(match.group('yday'))\n",
    "        hour = int(match.group('hour'))\n",
    "        minute = 0 if int(match.group('minute')) < 30 else 30\n",
    "        return yday, hour, minute\n",
    "    else:\n",
    "        return ValueError()"
   ]
  },
  {
   "cell_type": "code",
   "execution_count": 16,
   "metadata": {},
   "outputs": [
    {
     "data": {
      "text/plain": [
       "(1, 0, 0)"
      ]
     },
     "execution_count": 16,
     "metadata": {},
     "output_type": "execute_result"
    }
   ],
   "source": [
    "extract_daynight(daynight_sample)"
   ]
  },
  {
   "cell_type": "markdown",
   "metadata": {},
   "source": [
    "## Create csv for file list\n",
    "### GOES"
   ]
  },
  {
   "cell_type": "code",
   "execution_count": 17,
   "metadata": {},
   "outputs": [],
   "source": [
    "band1_path = path.join(band1_dir, \"**\", \"*.png\")\n",
    "band3_path = path.join(band3_dir, \"**\", \"*.png\")"
   ]
  },
  {
   "cell_type": "code",
   "execution_count": 18,
   "metadata": {},
   "outputs": [],
   "source": [
    "band1_path_list = filter(lambda s: goes_pattern.match(path.basename(s)), glob(band1_path, recursive=True))\n",
    "band3_path_list = filter(lambda s: goes_pattern.match(path.basename(s)), glob(band3_path, recursive=True))"
   ]
  },
  {
   "cell_type": "code",
   "execution_count": 19,
   "metadata": {},
   "outputs": [],
   "source": [
    "band1_df = pd.concat([pd.DataFrame([file_path],\n",
    "                                   columns=['path_band1']) \n",
    "                      for file_path in band1_path_list],\n",
    "                     ignore_index=True)\n",
    "band3_df = pd.concat([pd.DataFrame([file_path],\n",
    "                                   columns=['path_band3']) \n",
    "                      for file_path in band3_path_list],\n",
    "                     ignore_index=True)"
   ]
  },
  {
   "cell_type": "code",
   "execution_count": 20,
   "metadata": {},
   "outputs": [],
   "source": [
    "band1_df['timestamp'] = band1_df['path_band1'].apply(lambda filepath: extract_GOES(path.basename(filepath)))\n",
    "band1_df = band1_df.set_index('timestamp').sort_index()"
   ]
  },
  {
   "cell_type": "code",
   "execution_count": 21,
   "metadata": {},
   "outputs": [
    {
     "data": {
      "text/html": [
       "<div>\n",
       "<style scoped>\n",
       "    .dataframe tbody tr th:only-of-type {\n",
       "        vertical-align: middle;\n",
       "    }\n",
       "\n",
       "    .dataframe tbody tr th {\n",
       "        vertical-align: top;\n",
       "    }\n",
       "\n",
       "    .dataframe thead th {\n",
       "        text-align: right;\n",
       "    }\n",
       "</style>\n",
       "<table border=\"1\" class=\"dataframe\">\n",
       "  <thead>\n",
       "    <tr style=\"text-align: right;\">\n",
       "      <th></th>\n",
       "      <th>path_band1</th>\n",
       "    </tr>\n",
       "    <tr>\n",
       "      <th>timestamp</th>\n",
       "      <th></th>\n",
       "    </tr>\n",
       "  </thead>\n",
       "  <tbody>\n",
       "    <tr>\n",
       "      <th>2018-01-01 20:00:00</th>\n",
       "      <td>/n/mickley/lab/HMS_vision/original/band1/RadF-...</td>\n",
       "    </tr>\n",
       "    <tr>\n",
       "      <th>2018-01-01 20:30:00</th>\n",
       "      <td>/n/mickley/lab/HMS_vision/original/band1/RadF-...</td>\n",
       "    </tr>\n",
       "    <tr>\n",
       "      <th>2018-01-01 21:00:00</th>\n",
       "      <td>/n/mickley/lab/HMS_vision/original/band1/RadF-...</td>\n",
       "    </tr>\n",
       "    <tr>\n",
       "      <th>2018-01-01 21:30:00</th>\n",
       "      <td>/n/mickley/lab/HMS_vision/original/band1/RadF-...</td>\n",
       "    </tr>\n",
       "    <tr>\n",
       "      <th>2018-01-01 22:00:00</th>\n",
       "      <td>/n/mickley/lab/HMS_vision/original/band1/RadF-...</td>\n",
       "    </tr>\n",
       "  </tbody>\n",
       "</table>\n",
       "</div>"
      ],
      "text/plain": [
       "                                                            path_band1\n",
       "timestamp                                                             \n",
       "2018-01-01 20:00:00  /n/mickley/lab/HMS_vision/original/band1/RadF-...\n",
       "2018-01-01 20:30:00  /n/mickley/lab/HMS_vision/original/band1/RadF-...\n",
       "2018-01-01 21:00:00  /n/mickley/lab/HMS_vision/original/band1/RadF-...\n",
       "2018-01-01 21:30:00  /n/mickley/lab/HMS_vision/original/band1/RadF-...\n",
       "2018-01-01 22:00:00  /n/mickley/lab/HMS_vision/original/band1/RadF-..."
      ]
     },
     "execution_count": 21,
     "metadata": {},
     "output_type": "execute_result"
    }
   ],
   "source": [
    "band1_df.head()"
   ]
  },
  {
   "cell_type": "code",
   "execution_count": 22,
   "metadata": {},
   "outputs": [],
   "source": [
    "band3_df['timestamp'] = band3_df['path_band3'].apply(lambda filepath: extract_GOES(path.basename(filepath)))\n",
    "band3_df = band3_df.set_index('timestamp').sort_index()"
   ]
  },
  {
   "cell_type": "code",
   "execution_count": 23,
   "metadata": {},
   "outputs": [
    {
     "data": {
      "text/html": [
       "<div>\n",
       "<style scoped>\n",
       "    .dataframe tbody tr th:only-of-type {\n",
       "        vertical-align: middle;\n",
       "    }\n",
       "\n",
       "    .dataframe tbody tr th {\n",
       "        vertical-align: top;\n",
       "    }\n",
       "\n",
       "    .dataframe thead th {\n",
       "        text-align: right;\n",
       "    }\n",
       "</style>\n",
       "<table border=\"1\" class=\"dataframe\">\n",
       "  <thead>\n",
       "    <tr style=\"text-align: right;\">\n",
       "      <th></th>\n",
       "      <th>path_band3</th>\n",
       "    </tr>\n",
       "    <tr>\n",
       "      <th>timestamp</th>\n",
       "      <th></th>\n",
       "    </tr>\n",
       "  </thead>\n",
       "  <tbody>\n",
       "    <tr>\n",
       "      <th>2018-01-01 20:00:00</th>\n",
       "      <td>/n/mickley/lab/HMS_vision/original/band3/RadF-...</td>\n",
       "    </tr>\n",
       "    <tr>\n",
       "      <th>2018-01-01 20:30:00</th>\n",
       "      <td>/n/mickley/lab/HMS_vision/original/band3/RadF-...</td>\n",
       "    </tr>\n",
       "    <tr>\n",
       "      <th>2018-01-01 21:00:00</th>\n",
       "      <td>/n/mickley/lab/HMS_vision/original/band3/RadF-...</td>\n",
       "    </tr>\n",
       "    <tr>\n",
       "      <th>2018-01-01 21:30:00</th>\n",
       "      <td>/n/mickley/lab/HMS_vision/original/band3/RadF-...</td>\n",
       "    </tr>\n",
       "    <tr>\n",
       "      <th>2018-01-01 22:00:00</th>\n",
       "      <td>/n/mickley/lab/HMS_vision/original/band3/RadF-...</td>\n",
       "    </tr>\n",
       "  </tbody>\n",
       "</table>\n",
       "</div>"
      ],
      "text/plain": [
       "                                                            path_band3\n",
       "timestamp                                                             \n",
       "2018-01-01 20:00:00  /n/mickley/lab/HMS_vision/original/band3/RadF-...\n",
       "2018-01-01 20:30:00  /n/mickley/lab/HMS_vision/original/band3/RadF-...\n",
       "2018-01-01 21:00:00  /n/mickley/lab/HMS_vision/original/band3/RadF-...\n",
       "2018-01-01 21:30:00  /n/mickley/lab/HMS_vision/original/band3/RadF-...\n",
       "2018-01-01 22:00:00  /n/mickley/lab/HMS_vision/original/band3/RadF-..."
      ]
     },
     "execution_count": 23,
     "metadata": {},
     "output_type": "execute_result"
    }
   ],
   "source": [
    "band3_df.head()"
   ]
  },
  {
   "cell_type": "markdown",
   "metadata": {},
   "source": [
    "### HMS"
   ]
  },
  {
   "cell_type": "code",
   "execution_count": 24,
   "metadata": {},
   "outputs": [],
   "source": [
    "hms_path = path.join(hms_dir, \"**\", \"*.tif\")"
   ]
  },
  {
   "cell_type": "code",
   "execution_count": 25,
   "metadata": {},
   "outputs": [],
   "source": [
    "hms_path_list = filter(lambda s: hms_pattern.match(path.basename(s)), glob(hms_path, recursive=True))"
   ]
  },
  {
   "cell_type": "code",
   "execution_count": 26,
   "metadata": {},
   "outputs": [],
   "source": [
    "hms_df = pd.concat([pd.DataFrame([file_path],\n",
    "                                 columns=['path_hms']) \n",
    "                    for file_path in hms_path_list],\n",
    "                   ignore_index=True)"
   ]
  },
  {
   "cell_type": "code",
   "execution_count": 27,
   "metadata": {},
   "outputs": [],
   "source": [
    "hms_df['timestamp'] = hms_df['path_hms'].apply(lambda filepath: extract_HMS(path.basename(filepath)))\n",
    "hms_df = hms_df.set_index('timestamp').sort_index()"
   ]
  },
  {
   "cell_type": "code",
   "execution_count": 28,
   "metadata": {},
   "outputs": [
    {
     "data": {
      "text/html": [
       "<div>\n",
       "<style scoped>\n",
       "    .dataframe tbody tr th:only-of-type {\n",
       "        vertical-align: middle;\n",
       "    }\n",
       "\n",
       "    .dataframe tbody tr th {\n",
       "        vertical-align: top;\n",
       "    }\n",
       "\n",
       "    .dataframe thead th {\n",
       "        text-align: right;\n",
       "    }\n",
       "</style>\n",
       "<table border=\"1\" class=\"dataframe\">\n",
       "  <thead>\n",
       "    <tr style=\"text-align: right;\">\n",
       "      <th></th>\n",
       "      <th>path_hms</th>\n",
       "    </tr>\n",
       "    <tr>\n",
       "      <th>timestamp</th>\n",
       "      <th></th>\n",
       "    </tr>\n",
       "  </thead>\n",
       "  <tbody>\n",
       "    <tr>\n",
       "      <th>2018-01-01 20:30:00</th>\n",
       "      <td>/n/mickley/lab/HMS_vision/original/HMS/HMS_Den...</td>\n",
       "    </tr>\n",
       "    <tr>\n",
       "      <th>2018-01-01 21:00:00</th>\n",
       "      <td>/n/mickley/lab/HMS_vision/original/HMS/HMS_Den...</td>\n",
       "    </tr>\n",
       "    <tr>\n",
       "      <th>2018-01-01 21:30:00</th>\n",
       "      <td>/n/mickley/lab/HMS_vision/original/HMS/HMS_Den...</td>\n",
       "    </tr>\n",
       "    <tr>\n",
       "      <th>2018-01-01 22:00:00</th>\n",
       "      <td>/n/mickley/lab/HMS_vision/original/HMS/HMS_Den...</td>\n",
       "    </tr>\n",
       "    <tr>\n",
       "      <th>2018-01-01 22:30:00</th>\n",
       "      <td>/n/mickley/lab/HMS_vision/original/HMS/HMS_Den...</td>\n",
       "    </tr>\n",
       "  </tbody>\n",
       "</table>\n",
       "</div>"
      ],
      "text/plain": [
       "                                                              path_hms\n",
       "timestamp                                                             \n",
       "2018-01-01 20:30:00  /n/mickley/lab/HMS_vision/original/HMS/HMS_Den...\n",
       "2018-01-01 21:00:00  /n/mickley/lab/HMS_vision/original/HMS/HMS_Den...\n",
       "2018-01-01 21:30:00  /n/mickley/lab/HMS_vision/original/HMS/HMS_Den...\n",
       "2018-01-01 22:00:00  /n/mickley/lab/HMS_vision/original/HMS/HMS_Den...\n",
       "2018-01-01 22:30:00  /n/mickley/lab/HMS_vision/original/HMS/HMS_Den..."
      ]
     },
     "execution_count": 28,
     "metadata": {},
     "output_type": "execute_result"
    }
   ],
   "source": [
    "hms_df.head()"
   ]
  },
  {
   "cell_type": "markdown",
   "metadata": {},
   "source": [
    "### Daynight"
   ]
  },
  {
   "cell_type": "code",
   "execution_count": 29,
   "metadata": {},
   "outputs": [],
   "source": [
    "daynight_path = path.join(daynight_dir, \"**\", \"*.png\")"
   ]
  },
  {
   "cell_type": "code",
   "execution_count": 30,
   "metadata": {},
   "outputs": [],
   "source": [
    "daynight_path_list = filter(lambda s: daynight_pattern.match(path.basename(s)), glob(daynight_path, recursive=True))"
   ]
  },
  {
   "cell_type": "code",
   "execution_count": 31,
   "metadata": {},
   "outputs": [],
   "source": [
    "daynight_df = pd.concat([pd.DataFrame([file_path],\n",
    "                                 columns=['path_daynight']) \n",
    "                    for file_path in daynight_path_list],\n",
    "                   ignore_index=True)"
   ]
  },
  {
   "cell_type": "code",
   "execution_count": 32,
   "metadata": {},
   "outputs": [],
   "source": [
    "def extract_daynight_timestamp(daynight_filename):\n",
    "    yday, hour, minute = extract_daynight(path.basename(daynight_filename))\n",
    "    return pd.Series({'yday':yday, 'hour':hour, 'minute': minute})\n",
    "daynight_df = daynight_df.merge(daynight_df.path_daynight.apply(extract_daynight_timestamp), left_index=True, right_index=True)"
   ]
  },
  {
   "cell_type": "code",
   "execution_count": 33,
   "metadata": {},
   "outputs": [],
   "source": [
    "daynight_df = daynight_df.set_index(['yday', 'hour', 'minute']).sort_index()"
   ]
  },
  {
   "cell_type": "code",
   "execution_count": 34,
   "metadata": {},
   "outputs": [
    {
     "data": {
      "text/html": [
       "<div>\n",
       "<style scoped>\n",
       "    .dataframe tbody tr th:only-of-type {\n",
       "        vertical-align: middle;\n",
       "    }\n",
       "\n",
       "    .dataframe tbody tr th {\n",
       "        vertical-align: top;\n",
       "    }\n",
       "\n",
       "    .dataframe thead th {\n",
       "        text-align: right;\n",
       "    }\n",
       "</style>\n",
       "<table border=\"1\" class=\"dataframe\">\n",
       "  <thead>\n",
       "    <tr style=\"text-align: right;\">\n",
       "      <th></th>\n",
       "      <th></th>\n",
       "      <th></th>\n",
       "      <th>path_daynight</th>\n",
       "    </tr>\n",
       "    <tr>\n",
       "      <th>yday</th>\n",
       "      <th>hour</th>\n",
       "      <th>minute</th>\n",
       "      <th></th>\n",
       "    </tr>\n",
       "  </thead>\n",
       "  <tbody>\n",
       "    <tr>\n",
       "      <th rowspan=\"5\" valign=\"top\">1</th>\n",
       "      <th rowspan=\"2\" valign=\"top\">0</th>\n",
       "      <th>0</th>\n",
       "      <td>/n/mickley/lab/HMS_vision/original/DayNight/Da...</td>\n",
       "    </tr>\n",
       "    <tr>\n",
       "      <th>30</th>\n",
       "      <td>/n/mickley/lab/HMS_vision/original/DayNight/Da...</td>\n",
       "    </tr>\n",
       "    <tr>\n",
       "      <th rowspan=\"2\" valign=\"top\">1</th>\n",
       "      <th>0</th>\n",
       "      <td>/n/mickley/lab/HMS_vision/original/DayNight/Da...</td>\n",
       "    </tr>\n",
       "    <tr>\n",
       "      <th>30</th>\n",
       "      <td>/n/mickley/lab/HMS_vision/original/DayNight/Da...</td>\n",
       "    </tr>\n",
       "    <tr>\n",
       "      <th>2</th>\n",
       "      <th>0</th>\n",
       "      <td>/n/mickley/lab/HMS_vision/original/DayNight/Da...</td>\n",
       "    </tr>\n",
       "    <tr>\n",
       "      <th>...</th>\n",
       "      <th>...</th>\n",
       "      <th>...</th>\n",
       "      <td>...</td>\n",
       "    </tr>\n",
       "    <tr>\n",
       "      <th rowspan=\"5\" valign=\"top\">366</th>\n",
       "      <th>21</th>\n",
       "      <th>30</th>\n",
       "      <td>/n/mickley/lab/HMS_vision/original/DayNight/Da...</td>\n",
       "    </tr>\n",
       "    <tr>\n",
       "      <th rowspan=\"2\" valign=\"top\">22</th>\n",
       "      <th>0</th>\n",
       "      <td>/n/mickley/lab/HMS_vision/original/DayNight/Da...</td>\n",
       "    </tr>\n",
       "    <tr>\n",
       "      <th>30</th>\n",
       "      <td>/n/mickley/lab/HMS_vision/original/DayNight/Da...</td>\n",
       "    </tr>\n",
       "    <tr>\n",
       "      <th rowspan=\"2\" valign=\"top\">23</th>\n",
       "      <th>0</th>\n",
       "      <td>/n/mickley/lab/HMS_vision/original/DayNight/Da...</td>\n",
       "    </tr>\n",
       "    <tr>\n",
       "      <th>30</th>\n",
       "      <td>/n/mickley/lab/HMS_vision/original/DayNight/Da...</td>\n",
       "    </tr>\n",
       "  </tbody>\n",
       "</table>\n",
       "<p>17568 rows × 1 columns</p>\n",
       "</div>"
      ],
      "text/plain": [
       "                                                      path_daynight\n",
       "yday hour minute                                                   \n",
       "1    0    0       /n/mickley/lab/HMS_vision/original/DayNight/Da...\n",
       "          30      /n/mickley/lab/HMS_vision/original/DayNight/Da...\n",
       "     1    0       /n/mickley/lab/HMS_vision/original/DayNight/Da...\n",
       "          30      /n/mickley/lab/HMS_vision/original/DayNight/Da...\n",
       "     2    0       /n/mickley/lab/HMS_vision/original/DayNight/Da...\n",
       "...                                                             ...\n",
       "366  21   30      /n/mickley/lab/HMS_vision/original/DayNight/Da...\n",
       "     22   0       /n/mickley/lab/HMS_vision/original/DayNight/Da...\n",
       "          30      /n/mickley/lab/HMS_vision/original/DayNight/Da...\n",
       "     23   0       /n/mickley/lab/HMS_vision/original/DayNight/Da...\n",
       "          30      /n/mickley/lab/HMS_vision/original/DayNight/Da...\n",
       "\n",
       "[17568 rows x 1 columns]"
      ]
     },
     "execution_count": 34,
     "metadata": {},
     "output_type": "execute_result"
    }
   ],
   "source": [
    "daynight_df"
   ]
  },
  {
   "cell_type": "markdown",
   "metadata": {},
   "source": [
    "## Remove duplicates\n",
    "### GOES"
   ]
  },
  {
   "cell_type": "code",
   "execution_count": 35,
   "metadata": {},
   "outputs": [
    {
     "name": "stdout",
     "output_type": "stream",
     "text": [
      "1\n"
     ]
    }
   ],
   "source": [
    "band1_df_mod = band1_df.reset_index()\n",
    "duplicated_index = band1_df_mod.timestamp.duplicated()\n",
    "print(duplicated_index.sum())"
   ]
  },
  {
   "cell_type": "code",
   "execution_count": 36,
   "metadata": {},
   "outputs": [
    {
     "name": "stdout",
     "output_type": "stream",
     "text": [
      "               timestamp                                         path_band1\n",
      "5734 2018-09-17 15:00:00  /n/mickley/lab/HMS_vision/original/band1/RadF-...\n",
      "5735 2018-09-17 15:00:00  /n/mickley/lab/HMS_vision/original/band1/RadF-...\n",
      "[[Timestamp('2018-09-17 15:00:00')\n",
      "  '/n/mickley/lab/HMS_vision/original/band1/RadF-M3C01-s20182601500.png']\n",
      " [Timestamp('2018-09-17 15:00:00')\n",
      "  '/n/mickley/lab/HMS_vision/original/band1/RadF-M3C01-s20182601515.png']]\n"
     ]
    }
   ],
   "source": [
    "duplicated_elements = band1_df_mod[band1_df_mod.timestamp == band1_df_mod[duplicated_index].timestamp.iat[0]]\n",
    "print(duplicated_elements)\n",
    "print(duplicated_elements.values)"
   ]
  },
  {
   "cell_type": "code",
   "execution_count": 37,
   "metadata": {},
   "outputs": [],
   "source": [
    "remove_idx = duplicated_elements.iloc[0].name\n",
    "band1_df_mod = band1_df_mod.drop(index=remove_idx)\n",
    "band1_df = band1_df_mod.set_index('timestamp')"
   ]
  },
  {
   "cell_type": "code",
   "execution_count": 38,
   "metadata": {},
   "outputs": [
    {
     "data": {
      "text/html": [
       "<div>\n",
       "<style scoped>\n",
       "    .dataframe tbody tr th:only-of-type {\n",
       "        vertical-align: middle;\n",
       "    }\n",
       "\n",
       "    .dataframe tbody tr th {\n",
       "        vertical-align: top;\n",
       "    }\n",
       "\n",
       "    .dataframe thead th {\n",
       "        text-align: right;\n",
       "    }\n",
       "</style>\n",
       "<table border=\"1\" class=\"dataframe\">\n",
       "  <thead>\n",
       "    <tr style=\"text-align: right;\">\n",
       "      <th></th>\n",
       "      <th>path_band1</th>\n",
       "    </tr>\n",
       "    <tr>\n",
       "      <th>timestamp</th>\n",
       "      <th></th>\n",
       "    </tr>\n",
       "  </thead>\n",
       "  <tbody>\n",
       "    <tr>\n",
       "      <th>2018-01-01 20:00:00</th>\n",
       "      <td>/n/mickley/lab/HMS_vision/original/band1/RadF-...</td>\n",
       "    </tr>\n",
       "    <tr>\n",
       "      <th>2018-01-01 20:30:00</th>\n",
       "      <td>/n/mickley/lab/HMS_vision/original/band1/RadF-...</td>\n",
       "    </tr>\n",
       "    <tr>\n",
       "      <th>2018-01-01 21:00:00</th>\n",
       "      <td>/n/mickley/lab/HMS_vision/original/band1/RadF-...</td>\n",
       "    </tr>\n",
       "    <tr>\n",
       "      <th>2018-01-01 21:30:00</th>\n",
       "      <td>/n/mickley/lab/HMS_vision/original/band1/RadF-...</td>\n",
       "    </tr>\n",
       "    <tr>\n",
       "      <th>2018-01-01 22:00:00</th>\n",
       "      <td>/n/mickley/lab/HMS_vision/original/band1/RadF-...</td>\n",
       "    </tr>\n",
       "    <tr>\n",
       "      <th>...</th>\n",
       "      <td>...</td>\n",
       "    </tr>\n",
       "    <tr>\n",
       "      <th>2018-12-29 23:30:00</th>\n",
       "      <td>/n/mickley/lab/HMS_vision/original/band1/RadF-...</td>\n",
       "    </tr>\n",
       "    <tr>\n",
       "      <th>2018-12-30 00:00:00</th>\n",
       "      <td>/n/mickley/lab/HMS_vision/original/band1/RadF-...</td>\n",
       "    </tr>\n",
       "    <tr>\n",
       "      <th>2018-12-30 00:30:00</th>\n",
       "      <td>/n/mickley/lab/HMS_vision/original/band1/RadF-...</td>\n",
       "    </tr>\n",
       "    <tr>\n",
       "      <th>2018-12-30 01:00:00</th>\n",
       "      <td>/n/mickley/lab/HMS_vision/original/band1/RadF-...</td>\n",
       "    </tr>\n",
       "    <tr>\n",
       "      <th>2018-12-30 01:30:00</th>\n",
       "      <td>/n/mickley/lab/HMS_vision/original/band1/RadF-...</td>\n",
       "    </tr>\n",
       "  </tbody>\n",
       "</table>\n",
       "<p>7676 rows × 1 columns</p>\n",
       "</div>"
      ],
      "text/plain": [
       "                                                            path_band1\n",
       "timestamp                                                             \n",
       "2018-01-01 20:00:00  /n/mickley/lab/HMS_vision/original/band1/RadF-...\n",
       "2018-01-01 20:30:00  /n/mickley/lab/HMS_vision/original/band1/RadF-...\n",
       "2018-01-01 21:00:00  /n/mickley/lab/HMS_vision/original/band1/RadF-...\n",
       "2018-01-01 21:30:00  /n/mickley/lab/HMS_vision/original/band1/RadF-...\n",
       "2018-01-01 22:00:00  /n/mickley/lab/HMS_vision/original/band1/RadF-...\n",
       "...                                                                ...\n",
       "2018-12-29 23:30:00  /n/mickley/lab/HMS_vision/original/band1/RadF-...\n",
       "2018-12-30 00:00:00  /n/mickley/lab/HMS_vision/original/band1/RadF-...\n",
       "2018-12-30 00:30:00  /n/mickley/lab/HMS_vision/original/band1/RadF-...\n",
       "2018-12-30 01:00:00  /n/mickley/lab/HMS_vision/original/band1/RadF-...\n",
       "2018-12-30 01:30:00  /n/mickley/lab/HMS_vision/original/band1/RadF-...\n",
       "\n",
       "[7676 rows x 1 columns]"
      ]
     },
     "execution_count": 38,
     "metadata": {},
     "output_type": "execute_result"
    }
   ],
   "source": [
    "band1_df"
   ]
  },
  {
   "cell_type": "code",
   "execution_count": 39,
   "metadata": {},
   "outputs": [
    {
     "name": "stdout",
     "output_type": "stream",
     "text": [
      "0\n"
     ]
    }
   ],
   "source": [
    "band3_df_mod = band3_df.reset_index()\n",
    "duplicated_index = band3_df_mod.timestamp.duplicated()\n",
    "print(duplicated_index.sum())"
   ]
  },
  {
   "cell_type": "markdown",
   "metadata": {},
   "source": [
    "### HMS"
   ]
  },
  {
   "cell_type": "code",
   "execution_count": 40,
   "metadata": {},
   "outputs": [
    {
     "name": "stdout",
     "output_type": "stream",
     "text": [
      "0\n"
     ]
    }
   ],
   "source": [
    "hms_df_mod = hms_df.reset_index()\n",
    "duplicated_index = hms_df_mod.timestamp.duplicated()\n",
    "print(duplicated_index.sum())"
   ]
  },
  {
   "cell_type": "markdown",
   "metadata": {},
   "source": [
    "### Save csv"
   ]
  },
  {
   "cell_type": "code",
   "execution_count": 41,
   "metadata": {},
   "outputs": [],
   "source": [
    "band1_df.to_csv('data_csv/band1_all.csv')\n",
    "band3_df.to_csv('data_csv/band3_all.csv')\n",
    "hms_df.to_csv('data_csv/hms_all.csv')\n",
    "daynight_df.to_csv('data_csv/daynight_all.csv')"
   ]
  },
  {
   "cell_type": "code",
   "execution_count": null,
   "metadata": {},
   "outputs": [],
   "source": []
  }
 ],
 "metadata": {
  "kernelspec": {
   "display_name": "Python [conda env:tf-gpu]",
   "language": "python",
   "name": "conda-env-tf-gpu-py"
  },
  "language_info": {
   "codemirror_mode": {
    "name": "ipython",
    "version": 3
   },
   "file_extension": ".py",
   "mimetype": "text/x-python",
   "name": "python",
   "nbconvert_exporter": "python",
   "pygments_lexer": "ipython3",
   "version": "3.6.10"
  }
 },
 "nbformat": 4,
 "nbformat_minor": 2
}
