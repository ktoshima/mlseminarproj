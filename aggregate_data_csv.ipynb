{
 "cells": [
  {
   "cell_type": "code",
   "execution_count": 1,
   "metadata": {},
   "outputs": [],
   "source": [
    "import pandas as pd"
   ]
  },
  {
   "cell_type": "code",
   "execution_count": 2,
   "metadata": {},
   "outputs": [],
   "source": [
    "band1_all = pd.read_csv('data_csv/band1_all.csv', parse_dates=['timestamp'])\n",
    "band3_all = pd.read_csv('data_csv/band3_all.csv', parse_dates=['timestamp'])\n",
    "hms_all = pd.read_csv('data_csv/hms_all.csv', parse_dates=['timestamp'])"
   ]
  },
  {
   "cell_type": "code",
   "execution_count": 3,
   "metadata": {},
   "outputs": [],
   "source": [
    "path_all_df = pd.merge(pd.merge(band1_all, \n",
    "                                band3_all, \n",
    "                                how='inner', \n",
    "                                left_on='timestamp', \n",
    "                                right_on='timestamp',\n",
    "                                validate='one_to_one'), \n",
    "                       hms_all, \n",
    "                       how='inner', \n",
    "                       left_on='timestamp',\n",
    "                       right_on='timestamp',\n",
    "                       validate='one_to_one')"
   ]
  },
  {
   "cell_type": "code",
   "execution_count": 4,
   "metadata": {},
   "outputs": [
    {
     "data": {
      "text/html": [
       "<div>\n",
       "<style scoped>\n",
       "    .dataframe tbody tr th:only-of-type {\n",
       "        vertical-align: middle;\n",
       "    }\n",
       "\n",
       "    .dataframe tbody tr th {\n",
       "        vertical-align: top;\n",
       "    }\n",
       "\n",
       "    .dataframe thead th {\n",
       "        text-align: right;\n",
       "    }\n",
       "</style>\n",
       "<table border=\"1\" class=\"dataframe\">\n",
       "  <thead>\n",
       "    <tr style=\"text-align: right;\">\n",
       "      <th></th>\n",
       "      <th>timestamp</th>\n",
       "      <th>path_band1</th>\n",
       "      <th>path_band3</th>\n",
       "      <th>path_hms</th>\n",
       "    </tr>\n",
       "  </thead>\n",
       "  <tbody>\n",
       "    <tr>\n",
       "      <th>0</th>\n",
       "      <td>2018-01-01 20:30:00</td>\n",
       "      <td>/n/mickley/lab/HMS_vision/original/band1/RadF-...</td>\n",
       "      <td>/n/mickley/lab/HMS_vision/original/band3/RadF-...</td>\n",
       "      <td>/n/mickley/lab/HMS_vision/original/HMS/HMS_Den...</td>\n",
       "    </tr>\n",
       "    <tr>\n",
       "      <th>1</th>\n",
       "      <td>2018-01-01 21:00:00</td>\n",
       "      <td>/n/mickley/lab/HMS_vision/original/band1/RadF-...</td>\n",
       "      <td>/n/mickley/lab/HMS_vision/original/band3/RadF-...</td>\n",
       "      <td>/n/mickley/lab/HMS_vision/original/HMS/HMS_Den...</td>\n",
       "    </tr>\n",
       "    <tr>\n",
       "      <th>2</th>\n",
       "      <td>2018-01-01 21:30:00</td>\n",
       "      <td>/n/mickley/lab/HMS_vision/original/band1/RadF-...</td>\n",
       "      <td>/n/mickley/lab/HMS_vision/original/band3/RadF-...</td>\n",
       "      <td>/n/mickley/lab/HMS_vision/original/HMS/HMS_Den...</td>\n",
       "    </tr>\n",
       "    <tr>\n",
       "      <th>3</th>\n",
       "      <td>2018-01-01 22:00:00</td>\n",
       "      <td>/n/mickley/lab/HMS_vision/original/band1/RadF-...</td>\n",
       "      <td>/n/mickley/lab/HMS_vision/original/band3/RadF-...</td>\n",
       "      <td>/n/mickley/lab/HMS_vision/original/HMS/HMS_Den...</td>\n",
       "    </tr>\n",
       "    <tr>\n",
       "      <th>4</th>\n",
       "      <td>2018-01-01 22:30:00</td>\n",
       "      <td>/n/mickley/lab/HMS_vision/original/band1/RadF-...</td>\n",
       "      <td>/n/mickley/lab/HMS_vision/original/band3/RadF-...</td>\n",
       "      <td>/n/mickley/lab/HMS_vision/original/HMS/HMS_Den...</td>\n",
       "    </tr>\n",
       "  </tbody>\n",
       "</table>\n",
       "</div>"
      ],
      "text/plain": [
       "            timestamp                                         path_band1  \\\n",
       "0 2018-01-01 20:30:00  /n/mickley/lab/HMS_vision/original/band1/RadF-...   \n",
       "1 2018-01-01 21:00:00  /n/mickley/lab/HMS_vision/original/band1/RadF-...   \n",
       "2 2018-01-01 21:30:00  /n/mickley/lab/HMS_vision/original/band1/RadF-...   \n",
       "3 2018-01-01 22:00:00  /n/mickley/lab/HMS_vision/original/band1/RadF-...   \n",
       "4 2018-01-01 22:30:00  /n/mickley/lab/HMS_vision/original/band1/RadF-...   \n",
       "\n",
       "                                          path_band3  \\\n",
       "0  /n/mickley/lab/HMS_vision/original/band3/RadF-...   \n",
       "1  /n/mickley/lab/HMS_vision/original/band3/RadF-...   \n",
       "2  /n/mickley/lab/HMS_vision/original/band3/RadF-...   \n",
       "3  /n/mickley/lab/HMS_vision/original/band3/RadF-...   \n",
       "4  /n/mickley/lab/HMS_vision/original/band3/RadF-...   \n",
       "\n",
       "                                            path_hms  \n",
       "0  /n/mickley/lab/HMS_vision/original/HMS/HMS_Den...  \n",
       "1  /n/mickley/lab/HMS_vision/original/HMS/HMS_Den...  \n",
       "2  /n/mickley/lab/HMS_vision/original/HMS/HMS_Den...  \n",
       "3  /n/mickley/lab/HMS_vision/original/HMS/HMS_Den...  \n",
       "4  /n/mickley/lab/HMS_vision/original/HMS/HMS_Den...  "
      ]
     },
     "execution_count": 4,
     "metadata": {},
     "output_type": "execute_result"
    }
   ],
   "source": [
    "path_all_df.head()"
   ]
  },
  {
   "cell_type": "code",
   "execution_count": 5,
   "metadata": {},
   "outputs": [],
   "source": [
    "daynight_all = pd.read_csv('data_csv/daynight_all.csv', index_col=['yday', 'hour', 'minute'])"
   ]
  },
  {
   "cell_type": "code",
   "execution_count": 6,
   "metadata": {},
   "outputs": [
    {
     "data": {
      "text/html": [
       "<div>\n",
       "<style scoped>\n",
       "    .dataframe tbody tr th:only-of-type {\n",
       "        vertical-align: middle;\n",
       "    }\n",
       "\n",
       "    .dataframe tbody tr th {\n",
       "        vertical-align: top;\n",
       "    }\n",
       "\n",
       "    .dataframe thead th {\n",
       "        text-align: right;\n",
       "    }\n",
       "</style>\n",
       "<table border=\"1\" class=\"dataframe\">\n",
       "  <thead>\n",
       "    <tr style=\"text-align: right;\">\n",
       "      <th></th>\n",
       "      <th></th>\n",
       "      <th></th>\n",
       "      <th>path_daynight</th>\n",
       "    </tr>\n",
       "    <tr>\n",
       "      <th>yday</th>\n",
       "      <th>hour</th>\n",
       "      <th>minute</th>\n",
       "      <th></th>\n",
       "    </tr>\n",
       "  </thead>\n",
       "  <tbody>\n",
       "    <tr>\n",
       "      <th rowspan=\"5\" valign=\"top\">1</th>\n",
       "      <th rowspan=\"2\" valign=\"top\">0</th>\n",
       "      <th>0</th>\n",
       "      <td>/n/mickley/lab/HMS_vision/original/DayNight/Da...</td>\n",
       "    </tr>\n",
       "    <tr>\n",
       "      <th>30</th>\n",
       "      <td>/n/mickley/lab/HMS_vision/original/DayNight/Da...</td>\n",
       "    </tr>\n",
       "    <tr>\n",
       "      <th rowspan=\"2\" valign=\"top\">1</th>\n",
       "      <th>0</th>\n",
       "      <td>/n/mickley/lab/HMS_vision/original/DayNight/Da...</td>\n",
       "    </tr>\n",
       "    <tr>\n",
       "      <th>30</th>\n",
       "      <td>/n/mickley/lab/HMS_vision/original/DayNight/Da...</td>\n",
       "    </tr>\n",
       "    <tr>\n",
       "      <th>2</th>\n",
       "      <th>0</th>\n",
       "      <td>/n/mickley/lab/HMS_vision/original/DayNight/Da...</td>\n",
       "    </tr>\n",
       "  </tbody>\n",
       "</table>\n",
       "</div>"
      ],
      "text/plain": [
       "                                                      path_daynight\n",
       "yday hour minute                                                   \n",
       "1    0    0       /n/mickley/lab/HMS_vision/original/DayNight/Da...\n",
       "          30      /n/mickley/lab/HMS_vision/original/DayNight/Da...\n",
       "     1    0       /n/mickley/lab/HMS_vision/original/DayNight/Da...\n",
       "          30      /n/mickley/lab/HMS_vision/original/DayNight/Da...\n",
       "     2    0       /n/mickley/lab/HMS_vision/original/DayNight/Da..."
      ]
     },
     "execution_count": 6,
     "metadata": {},
     "output_type": "execute_result"
    }
   ],
   "source": [
    "daynight_all.head()"
   ]
  },
  {
   "cell_type": "code",
   "execution_count": 7,
   "metadata": {},
   "outputs": [],
   "source": [
    "def match_daynight_index(row):\n",
    "    return daynight_all.at[(row.timestamp.dayofyear, row.timestamp.hour, row.timestamp.minute), 'path_daynight']"
   ]
  },
  {
   "cell_type": "code",
   "execution_count": 8,
   "metadata": {},
   "outputs": [],
   "source": [
    "path_all_df['path_daynight'] = path_all_df.apply(match_daynight_index, axis='columns')"
   ]
  },
  {
   "cell_type": "code",
   "execution_count": 9,
   "metadata": {},
   "outputs": [
    {
     "data": {
      "text/html": [
       "<div>\n",
       "<style scoped>\n",
       "    .dataframe tbody tr th:only-of-type {\n",
       "        vertical-align: middle;\n",
       "    }\n",
       "\n",
       "    .dataframe tbody tr th {\n",
       "        vertical-align: top;\n",
       "    }\n",
       "\n",
       "    .dataframe thead th {\n",
       "        text-align: right;\n",
       "    }\n",
       "</style>\n",
       "<table border=\"1\" class=\"dataframe\">\n",
       "  <thead>\n",
       "    <tr style=\"text-align: right;\">\n",
       "      <th></th>\n",
       "      <th>path_band1</th>\n",
       "      <th>path_band3</th>\n",
       "      <th>path_hms</th>\n",
       "      <th>path_daynight</th>\n",
       "    </tr>\n",
       "    <tr>\n",
       "      <th>timestamp</th>\n",
       "      <th></th>\n",
       "      <th></th>\n",
       "      <th></th>\n",
       "      <th></th>\n",
       "    </tr>\n",
       "  </thead>\n",
       "  <tbody>\n",
       "    <tr>\n",
       "      <th>2018-01-01 20:30:00</th>\n",
       "      <td>/n/mickley/lab/HMS_vision/original/band1/RadF-...</td>\n",
       "      <td>/n/mickley/lab/HMS_vision/original/band3/RadF-...</td>\n",
       "      <td>/n/mickley/lab/HMS_vision/original/HMS/HMS_Den...</td>\n",
       "      <td>/n/mickley/lab/HMS_vision/original/DayNight/Da...</td>\n",
       "    </tr>\n",
       "    <tr>\n",
       "      <th>2018-01-01 21:00:00</th>\n",
       "      <td>/n/mickley/lab/HMS_vision/original/band1/RadF-...</td>\n",
       "      <td>/n/mickley/lab/HMS_vision/original/band3/RadF-...</td>\n",
       "      <td>/n/mickley/lab/HMS_vision/original/HMS/HMS_Den...</td>\n",
       "      <td>/n/mickley/lab/HMS_vision/original/DayNight/Da...</td>\n",
       "    </tr>\n",
       "    <tr>\n",
       "      <th>2018-01-01 21:30:00</th>\n",
       "      <td>/n/mickley/lab/HMS_vision/original/band1/RadF-...</td>\n",
       "      <td>/n/mickley/lab/HMS_vision/original/band3/RadF-...</td>\n",
       "      <td>/n/mickley/lab/HMS_vision/original/HMS/HMS_Den...</td>\n",
       "      <td>/n/mickley/lab/HMS_vision/original/DayNight/Da...</td>\n",
       "    </tr>\n",
       "    <tr>\n",
       "      <th>2018-01-01 22:00:00</th>\n",
       "      <td>/n/mickley/lab/HMS_vision/original/band1/RadF-...</td>\n",
       "      <td>/n/mickley/lab/HMS_vision/original/band3/RadF-...</td>\n",
       "      <td>/n/mickley/lab/HMS_vision/original/HMS/HMS_Den...</td>\n",
       "      <td>/n/mickley/lab/HMS_vision/original/DayNight/Da...</td>\n",
       "    </tr>\n",
       "    <tr>\n",
       "      <th>2018-01-01 22:30:00</th>\n",
       "      <td>/n/mickley/lab/HMS_vision/original/band1/RadF-...</td>\n",
       "      <td>/n/mickley/lab/HMS_vision/original/band3/RadF-...</td>\n",
       "      <td>/n/mickley/lab/HMS_vision/original/HMS/HMS_Den...</td>\n",
       "      <td>/n/mickley/lab/HMS_vision/original/DayNight/Da...</td>\n",
       "    </tr>\n",
       "  </tbody>\n",
       "</table>\n",
       "</div>"
      ],
      "text/plain": [
       "                                                            path_band1  \\\n",
       "timestamp                                                                \n",
       "2018-01-01 20:30:00  /n/mickley/lab/HMS_vision/original/band1/RadF-...   \n",
       "2018-01-01 21:00:00  /n/mickley/lab/HMS_vision/original/band1/RadF-...   \n",
       "2018-01-01 21:30:00  /n/mickley/lab/HMS_vision/original/band1/RadF-...   \n",
       "2018-01-01 22:00:00  /n/mickley/lab/HMS_vision/original/band1/RadF-...   \n",
       "2018-01-01 22:30:00  /n/mickley/lab/HMS_vision/original/band1/RadF-...   \n",
       "\n",
       "                                                            path_band3  \\\n",
       "timestamp                                                                \n",
       "2018-01-01 20:30:00  /n/mickley/lab/HMS_vision/original/band3/RadF-...   \n",
       "2018-01-01 21:00:00  /n/mickley/lab/HMS_vision/original/band3/RadF-...   \n",
       "2018-01-01 21:30:00  /n/mickley/lab/HMS_vision/original/band3/RadF-...   \n",
       "2018-01-01 22:00:00  /n/mickley/lab/HMS_vision/original/band3/RadF-...   \n",
       "2018-01-01 22:30:00  /n/mickley/lab/HMS_vision/original/band3/RadF-...   \n",
       "\n",
       "                                                              path_hms  \\\n",
       "timestamp                                                                \n",
       "2018-01-01 20:30:00  /n/mickley/lab/HMS_vision/original/HMS/HMS_Den...   \n",
       "2018-01-01 21:00:00  /n/mickley/lab/HMS_vision/original/HMS/HMS_Den...   \n",
       "2018-01-01 21:30:00  /n/mickley/lab/HMS_vision/original/HMS/HMS_Den...   \n",
       "2018-01-01 22:00:00  /n/mickley/lab/HMS_vision/original/HMS/HMS_Den...   \n",
       "2018-01-01 22:30:00  /n/mickley/lab/HMS_vision/original/HMS/HMS_Den...   \n",
       "\n",
       "                                                         path_daynight  \n",
       "timestamp                                                               \n",
       "2018-01-01 20:30:00  /n/mickley/lab/HMS_vision/original/DayNight/Da...  \n",
       "2018-01-01 21:00:00  /n/mickley/lab/HMS_vision/original/DayNight/Da...  \n",
       "2018-01-01 21:30:00  /n/mickley/lab/HMS_vision/original/DayNight/Da...  \n",
       "2018-01-01 22:00:00  /n/mickley/lab/HMS_vision/original/DayNight/Da...  \n",
       "2018-01-01 22:30:00  /n/mickley/lab/HMS_vision/original/DayNight/Da...  "
      ]
     },
     "execution_count": 9,
     "metadata": {},
     "output_type": "execute_result"
    }
   ],
   "source": [
    "path_all_df = path_all_df.set_index('timestamp')\n",
    "path_all_df.head()"
   ]
  },
  {
   "cell_type": "code",
   "execution_count": 10,
   "metadata": {},
   "outputs": [],
   "source": [
    "path_all_df.to_csv('data_csv/path_all.csv')"
   ]
  },
  {
   "cell_type": "code",
   "execution_count": 11,
   "metadata": {},
   "outputs": [],
   "source": [
    "df = pd.read_csv('data_csv/path_all.csv')"
   ]
  },
  {
   "cell_type": "code",
   "execution_count": 12,
   "metadata": {},
   "outputs": [
    {
     "data": {
      "text/plain": [
       "6884"
      ]
     },
     "execution_count": 12,
     "metadata": {},
     "output_type": "execute_result"
    }
   ],
   "source": [
    "len(df)"
   ]
  },
  {
   "cell_type": "code",
   "execution_count": null,
   "metadata": {},
   "outputs": [],
   "source": []
  }
 ],
 "metadata": {
  "kernelspec": {
   "display_name": "Python [conda env:tf-gpu]",
   "language": "python",
   "name": "conda-env-tf-gpu-py"
  },
  "language_info": {
   "codemirror_mode": {
    "name": "ipython",
    "version": 3
   },
   "file_extension": ".py",
   "mimetype": "text/x-python",
   "name": "python",
   "nbconvert_exporter": "python",
   "pygments_lexer": "ipython3",
   "version": "3.6.10"
  }
 },
 "nbformat": 4,
 "nbformat_minor": 2
}
